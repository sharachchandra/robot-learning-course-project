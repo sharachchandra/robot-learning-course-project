{
 "cells": [
  {
   "cell_type": "code",
   "execution_count": 1,
   "metadata": {},
   "outputs": [],
   "source": [
    "import robomimic\n",
    "import h5py\n",
    "import numpy as np\n",
    "import torch\n",
    "import copy"
   ]
  },
  {
   "cell_type": "code",
   "execution_count": 2,
   "metadata": {},
   "outputs": [
    {
     "name": "stdout",
     "output_type": "stream",
     "text": [
      "<KeysViewHDF5 ['actions', 'dones', 'next_obs', 'obs', 'rewards', 'states']>\n",
      "<class 'numpy.ndarray'>\n",
      "36\n"
     ]
    }
   ],
   "source": [
    "f = h5py.File('../datasets/lift/ph/low_dim_append.hdf5', 'r+')\n",
    "print(f[\"data\"][\"demo_0\"].keys())\n",
    "print(type(f[\"data\"][\"demo_0\"][\"actions\"][0]))\n",
    "\n",
    "min_len = np.inf\n",
    "for k in f[\"data\"]:\n",
    "    min_len = min(min_len, f[\"data\"][k][\"actions\"].shape[0])\n",
    "print(min_len)\n",
    "rep = min_len - 1\n",
    "\n",
    "for k in f[\"data\"]:\n",
    "    f[\"data\"][k].attrs[\"num_samples\"]+=rep\n",
    "    for kk in f[\"data\"][k]:\n",
    "        try:\n",
    "            kkk_list = f[\"data\"][k][kk]\n",
    "            for kkk in f[\"data\"][k][kk]:\n",
    "                data = f[\"data\"][k][kk][kkk][:].copy()\n",
    "                first = data[0]\n",
    "                data = np.concatenate(\n",
    "                    (np.repeat(np.expand_dims(first, 0),rep,0), data), 0)\n",
    "                del f[\"data\"][k][kk][kkk]\n",
    "                f.create_dataset(\"data\"+\"/\"+k+\"/\"+kk+\"/\"+kkk, data=data)\n",
    "        except:\n",
    "            data = f[\"data\"][k][kk][:].copy()\n",
    "            first = data[0]\n",
    "            data = np.concatenate(\n",
    "                (np.repeat(np.expand_dims(first, 0),rep,0), data), 0)\n",
    "            del f[\"data\"][k][kk]\n",
    "            f.create_dataset(\"data\"+\"/\"+k+\"/\"+kk, data=data)\n",
    "f.close()"
   ]
  },
  {
   "cell_type": "code",
   "execution_count": 2,
   "metadata": {},
   "outputs": [
    {
     "name": "stdout",
     "output_type": "stream",
     "text": [
      "71\n"
     ]
    }
   ],
   "source": [
    "f = h5py.File('../datasets/lift/ph/low_dim_append.hdf5')\n",
    "min_len = np.inf\n",
    "for k in f[\"data\"]:\n",
    "    min_len = min(min_len, f[\"data\"][k][\"dones\"].shape[0])\n",
    "print(min_len)\n",
    "rep = min_len - 1\n"
   ]
  },
  {
   "cell_type": "code",
   "execution_count": 17,
   "metadata": {},
   "outputs": [
    {
     "data": {
      "text/plain": [
       "<KeysViewHDF5 ['model_file', 'num_samples']>"
      ]
     },
     "execution_count": 17,
     "metadata": {},
     "output_type": "execute_result"
    }
   ],
   "source": [
    "f[\"data\"][\"demo_0\"].attrs.keys()"
   ]
  },
  {
   "cell_type": "code",
   "execution_count": null,
   "metadata": {},
   "outputs": [],
   "source": []
  }
 ],
 "metadata": {
  "kernelspec": {
   "display_name": "Python 3.7.9 ('robomimic_env')",
   "language": "python",
   "name": "python3"
  },
  "language_info": {
   "codemirror_mode": {
    "name": "ipython",
    "version": 3
   },
   "file_extension": ".py",
   "mimetype": "text/x-python",
   "name": "python",
   "nbconvert_exporter": "python",
   "pygments_lexer": "ipython3",
   "version": "3.7.9"
  },
  "orig_nbformat": 4,
  "vscode": {
   "interpreter": {
    "hash": "e787ddfd747bfe72fd33fe59dd92cbf2be3442bb0327e08b329fbd28b1f2b4d0"
   }
  }
 },
 "nbformat": 4,
 "nbformat_minor": 2
}
