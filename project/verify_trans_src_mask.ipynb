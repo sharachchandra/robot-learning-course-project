{
 "cells": [
  {
   "cell_type": "code",
   "execution_count": 1,
   "metadata": {},
   "outputs": [],
   "source": [
    "import torch\n",
    "from robomimic.models.transformer_nets import TransformerModel"
   ]
  },
  {
   "cell_type": "code",
   "execution_count": 2,
   "metadata": {},
   "outputs": [],
   "source": [
    "model = TransformerModel(19, 512, 8, 1024, 6)\n",
    "model.to(\"cuda\")\n",
    "model.eval()\n",
    "model.training"
   ]
  },
  {
   "cell_type": "code",
   "execution_count": 30,
   "metadata": {},
   "outputs": [],
   "source": [
    "in1 = torch.rand(1,20,19)\n",
    "in1 = in1.to(\"cuda\")\n",
    "in2 = in1.clone()\n",
    "in2[:,5:,:] = 0.0\n",
    "src_mask = torch.triu(torch.ones(20, 20) * float('-inf'), diagonal=1).to(\"cuda\")\n",
    "out1 = model(in1, src_mask)\n",
    "out2 = model(in2, src_mask)"
   ]
  },
  {
   "cell_type": "code",
   "execution_count": 33,
   "metadata": {},
   "outputs": [
    {
     "name": "stdout",
     "output_type": "stream",
     "text": [
      "tensor(False, device='cuda:0')\n",
      "tensor(False, device='cuda:0')\n"
     ]
    }
   ],
   "source": [
    "check = 8\n",
    "print(torch.all(out1[:,check,:] == out2[:,check,:]))\n",
    "print(torch.any(out1[:,check,:] == out2[:,check,:]))"
   ]
  },
  {
   "cell_type": "code",
   "execution_count": null,
   "metadata": {},
   "outputs": [],
   "source": []
  }
 ],
 "metadata": {
  "kernelspec": {
   "display_name": "Python 3.7.9 ('robomimic_env')",
   "language": "python",
   "name": "python3"
  },
  "language_info": {
   "codemirror_mode": {
    "name": "ipython",
    "version": 3
   },
   "file_extension": ".py",
   "mimetype": "text/x-python",
   "name": "python",
   "nbconvert_exporter": "python",
   "pygments_lexer": "ipython3",
   "version": "3.7.9"
  },
  "orig_nbformat": 4,
  "vscode": {
   "interpreter": {
    "hash": "e787ddfd747bfe72fd33fe59dd92cbf2be3442bb0327e08b329fbd28b1f2b4d0"
   }
  }
 },
 "nbformat": 4,
 "nbformat_minor": 2
}
